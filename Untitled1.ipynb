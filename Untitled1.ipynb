{
  "nbformat": 4,
  "nbformat_minor": 0,
  "metadata": {
    "colab": {
      "provenance": [],
      "authorship_tag": "ABX9TyMelb7/Oarq+hUrkZdN4h65",
      "include_colab_link": true
    },
    "kernelspec": {
      "name": "python3",
      "display_name": "Python 3"
    },
    "language_info": {
      "name": "python"
    }
  },
  "cells": [
    {
      "cell_type": "markdown",
      "metadata": {
        "id": "view-in-github",
        "colab_type": "text"
      },
      "source": [
        "<a href=\"https://colab.research.google.com/github/Bibirara/Python-learning-stuff/blob/main/Untitled1.ipynb\" target=\"_parent\"><img src=\"https://colab.research.google.com/assets/colab-badge.svg\" alt=\"Open In Colab\"/></a>"
      ]
    },
    {
      "cell_type": "code",
      "execution_count": 3,
      "metadata": {
        "id": "-yvqmbKRgeLz",
        "colab": {
          "base_uri": "https://localhost:8080/"
        },
        "outputId": "c2c1a232-30dd-463a-c01d-33e576413fe0"
      },
      "outputs": [
        {
          "output_type": "execute_result",
          "data": {
            "text/plain": [
              "0.9544997361036417"
            ]
          },
          "metadata": {},
          "execution_count": 3
        }
      ],
      "source": [
        "from scipy.stats import norm\n",
        "from scipy.integrate import quad\n",
        "\n",
        "ϕ = norm()\n",
        "value, error = quad(ϕ.pdf, -2, 2)  # Integrate using Gaussian quadrature\n",
        "value"
      ]
    },
    {
      "cell_type": "code",
      "source": [],
      "metadata": {
        "id": "GRzrNLtyjqRl"
      },
      "execution_count": null,
      "outputs": []
    }
  ]
}